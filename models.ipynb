{
  "nbformat": 4,
  "nbformat_minor": 0,
  "metadata": {
    "colab": {
      "name": "models.ipynb",
      "provenance": [],
      "collapsed_sections": [],
      "mount_file_id": "13GW1tFoTnuSdjYcCUGYlWg4QiFiFm3_i",
      "authorship_tag": "ABX9TyPVbV8RXQh69+Atcl7mU42u",
      "include_colab_link": true
    },
    "kernelspec": {
      "name": "python3",
      "display_name": "Python 3"
    },
    "accelerator": "GPU"
  },
  "cells": [
    {
      "cell_type": "markdown",
      "metadata": {
        "id": "view-in-github",
        "colab_type": "text"
      },
      "source": [
        "<a href=\"https://colab.research.google.com/github/mzignis/cats_vs_dogs/blob/master/models.ipynb\" target=\"_parent\"><img src=\"https://colab.research.google.com/assets/colab-badge.svg\" alt=\"Open In Colab\"/></a>"
      ]
    },
    {
      "cell_type": "code",
      "metadata": {
        "id": "iU-bNw6B533y",
        "outputId": "aa05837f-f3a7-4ad9-983b-45fce2aff77c",
        "colab": {
          "base_uri": "https://localhost:8080/",
          "height": 34
        }
      },
      "source": [
        "HOME = '/content/drive/My Drive/ml_competition/dogs_vs_cats'\n",
        "%cd $HOME"
      ],
      "execution_count": null,
      "outputs": [
        {
          "output_type": "stream",
          "text": [
            "/content/drive/My Drive/ml_competition/dogs_vs_cats\n"
          ],
          "name": "stdout"
        }
      ]
    },
    {
      "cell_type": "code",
      "metadata": {
        "id": "787GqF776F1c"
      },
      "source": [
        "import os\n",
        "import pickle\n",
        "\n",
        "import matplotlib.pyplot as plt\n",
        "import numpy as np\n",
        "import pandas as pd\n",
        "import seaborn as sns\n",
        "\n",
        "from keras.preprocessing.image import ImageDataGenerator\n",
        "from keras import layers, models, optimizers"
      ],
      "execution_count": null,
      "outputs": []
    },
    {
      "cell_type": "code",
      "metadata": {
        "id": "X5DMYtvl6PzD"
      },
      "source": [
        "sns.set()"
      ],
      "execution_count": null,
      "outputs": []
    },
    {
      "cell_type": "code",
      "metadata": {
        "id": "Z77ljF5o6Qmr"
      },
      "source": [
        "train_dir = os.path.join(HOME, 'data', 'train')\n",
        "validation_dir = os.path.join(HOME, 'data', 'validation')\n",
        "test_dir = os.path.join(HOME, 'data', 'test')"
      ],
      "execution_count": null,
      "outputs": []
    },
    {
      "cell_type": "markdown",
      "metadata": {
        "id": "NEM0DIR2LroC"
      },
      "source": [
        "## Model I"
      ]
    },
    {
      "cell_type": "code",
      "metadata": {
        "id": "RXSVB9zj7qdU",
        "outputId": "9f39c117-2173-46fa-d887-dbb04dc1afe5",
        "colab": {
          "base_uri": "https://localhost:8080/",
          "height": 561
        }
      },
      "source": [
        "def create_model(input_shape: tuple, verbose: bool = False):\n",
        "    model = models.Sequential()\n",
        "\n",
        "    # layer 0 - conv2d\n",
        "    model.add(layers.Conv2D(32, kernel_size=(3, 3), activation='relu', input_shape=input_shape))\n",
        "    model.add(layers.MaxPooling2D(pool_size=(2, 2)))\n",
        "\n",
        "    # layer 1 - conv2d\n",
        "    model.add(layers.Conv2D(64, kernel_size=(3, 3), activation='relu'))\n",
        "    model.add(layers.MaxPooling2D(pool_size=(2, 2)))\n",
        "\n",
        "    # layer 2 - conv2d\n",
        "    model.add(layers.Conv2D(128, kernel_size=(3, 3), activation='relu'))\n",
        "    model.add(layers.MaxPooling2D(pool_size=(2, 2)))\n",
        "\n",
        "    # layer 3 - conv2d\n",
        "    model.add(layers.Conv2D(128, kernel_size=(3, 3), activation='relu'))\n",
        "    model.add(layers.MaxPooling2D(pool_size=(2, 2)))\n",
        "\n",
        "    # layer 4 - flatten\n",
        "    model.add(layers.Flatten())\n",
        "\n",
        "    # layer 5 - dense\n",
        "    model.add(layers.Dense(512, activation='relu'))\n",
        "\n",
        "    # layer 6 - output\n",
        "    model.add(layers.Dense(1, activation='sigmoid'))\n",
        "\n",
        "    # compile\n",
        "    model.compile(loss='binary_crossentropy', \n",
        "                  optimizer=optimizers.RMSprop(lr=1e-4),\n",
        "                  metrics=['acc'])\n",
        "\n",
        "    if verbose:\n",
        "        print(model.summary())\n",
        "\n",
        "    return model\n",
        "\n",
        "create_model((150, 150, 3), True)"
      ],
      "execution_count": null,
      "outputs": [
        {
          "output_type": "stream",
          "text": [
            "Model: \"sequential_10\"\n",
            "_________________________________________________________________\n",
            "Layer (type)                 Output Shape              Param #   \n",
            "=================================================================\n",
            "conv2d_76 (Conv2D)           (None, 148, 148, 32)      896       \n",
            "_________________________________________________________________\n",
            "max_pooling2d_44 (MaxPooling (None, 74, 74, 32)        0         \n",
            "_________________________________________________________________\n",
            "conv2d_77 (Conv2D)           (None, 72, 72, 64)        18496     \n",
            "_________________________________________________________________\n",
            "max_pooling2d_45 (MaxPooling (None, 36, 36, 64)        0         \n",
            "_________________________________________________________________\n",
            "conv2d_78 (Conv2D)           (None, 34, 34, 128)       73856     \n",
            "_________________________________________________________________\n",
            "max_pooling2d_46 (MaxPooling (None, 17, 17, 128)       0         \n",
            "_________________________________________________________________\n",
            "conv2d_79 (Conv2D)           (None, 15, 15, 128)       147584    \n",
            "_________________________________________________________________\n",
            "max_pooling2d_47 (MaxPooling (None, 7, 7, 128)         0         \n",
            "_________________________________________________________________\n",
            "flatten_10 (Flatten)         (None, 6272)              0         \n",
            "_________________________________________________________________\n",
            "dense_27 (Dense)             (None, 512)               3211776   \n",
            "_________________________________________________________________\n",
            "dense_28 (Dense)             (None, 1)                 513       \n",
            "=================================================================\n",
            "Total params: 3,453,121\n",
            "Trainable params: 3,453,121\n",
            "Non-trainable params: 0\n",
            "_________________________________________________________________\n",
            "None\n"
          ],
          "name": "stdout"
        },
        {
          "output_type": "execute_result",
          "data": {
            "text/plain": [
              "<tensorflow.python.keras.engine.sequential.Sequential at 0x7f331ca67f60>"
            ]
          },
          "metadata": {
            "tags": []
          },
          "execution_count": 72
        }
      ]
    },
    {
      "cell_type": "code",
      "metadata": {
        "id": "bW93qnsk7AWT"
      },
      "source": [
        "model = create_model((150, 150, 3))"
      ],
      "execution_count": null,
      "outputs": []
    },
    {
      "cell_type": "code",
      "metadata": {
        "id": "CekPUsnnV4FG"
      },
      "source": [
        "train_img_gen = ImageDataGenerator(rescale=1./255)\n",
        "validation_img_gen = ImageDataGenerator(rescale=1./255)\n",
        "test_img_gen = ImageDataGenerator(rescale=1./255)"
      ],
      "execution_count": null,
      "outputs": []
    },
    {
      "cell_type": "code",
      "metadata": {
        "id": "h4aTMshKWiHe",
        "outputId": "094f8ca5-1392-4208-fab1-6e2fdbc6971b",
        "colab": {
          "base_uri": "https://localhost:8080/",
          "height": 34
        }
      },
      "source": [
        "train_generator = train_img_gen.flow_from_directory(\n",
        "    train_dir,\n",
        "    target_size=(150, 150),\n",
        "    batch_size=20,\n",
        "    class_mode='binary'\n",
        ")"
      ],
      "execution_count": null,
      "outputs": [
        {
          "output_type": "stream",
          "text": [
            "Found 20160 images belonging to 2 classes.\n"
          ],
          "name": "stdout"
        }
      ]
    },
    {
      "cell_type": "code",
      "metadata": {
        "id": "lNw17rPzW_Hd",
        "outputId": "72f0f985-a68a-4b48-b2af-70af86f89c84",
        "colab": {
          "base_uri": "https://localhost:8080/",
          "height": 34
        }
      },
      "source": [
        "validation_generator = validation_img_gen.flow_from_directory(\n",
        "    validation_dir,\n",
        "    target_size=(150, 150),\n",
        "    batch_size=20,\n",
        "    class_mode='binary'\n",
        ")"
      ],
      "execution_count": null,
      "outputs": [
        {
          "output_type": "stream",
          "text": [
            "Found 4000 images belonging to 2 classes.\n"
          ],
          "name": "stdout"
        }
      ]
    },
    {
      "cell_type": "code",
      "metadata": {
        "id": "9jPSvJaPIo6e",
        "outputId": "b98a5bd1-cd5e-4b3a-c98d-97585dc74b76",
        "colab": {
          "base_uri": "https://localhost:8080/",
          "height": 34
        }
      },
      "source": [
        "test_generator = test_img_gen.flow_from_directory(\n",
        "    test_dir,\n",
        "    target_size=(150, 150),\n",
        "    batch_size=20,\n",
        "    class_mode='binary'\n",
        ")"
      ],
      "execution_count": null,
      "outputs": [
        {
          "output_type": "stream",
          "text": [
            "Found 1000 images belonging to 2 classes.\n"
          ],
          "name": "stdout"
        }
      ]
    },
    {
      "cell_type": "code",
      "metadata": {
        "id": "lJpnexbAXDIn"
      },
      "source": [
        "# history = model.fit(train_generator, \n",
        "#                     steps_per_epoch=100,\n",
        "#                     epochs=30, \n",
        "#                     validation_data=validation_generator,\n",
        "#                     validation_steps=50)"
      ],
      "execution_count": null,
      "outputs": []
    },
    {
      "cell_type": "code",
      "metadata": {
        "id": "egCPLPPIX6Ln"
      },
      "source": [
        "# model.save('first_model.h5')"
      ],
      "execution_count": null,
      "outputs": []
    },
    {
      "cell_type": "code",
      "metadata": {
        "id": "Zda0gO-DHdD2"
      },
      "source": [
        "model.load_weights('first_model.h5')"
      ],
      "execution_count": null,
      "outputs": []
    },
    {
      "cell_type": "code",
      "metadata": {
        "id": "U9slbaLDIeEr",
        "outputId": "29b11c77-d3e1-4654-b53a-840dfeec557d",
        "colab": {
          "base_uri": "https://localhost:8080/",
          "height": 68
        }
      },
      "source": [
        "score, acc = model.evaluate(test_generator)\n",
        "print('Test score:', score)\n",
        "print('Test accuracy:', acc)"
      ],
      "execution_count": null,
      "outputs": [
        {
          "output_type": "stream",
          "text": [
            "50/50 [==============================] - 5s 90ms/step - loss: 0.4675 - acc: 0.7600\n",
            "Test score: 0.4675406515598297\n",
            "Test accuracy: 0.7599999904632568\n"
          ],
          "name": "stdout"
        }
      ]
    },
    {
      "cell_type": "markdown",
      "metadata": {
        "id": "NTEkLxwZLvgR"
      },
      "source": [
        "### Data augmentation"
      ]
    },
    {
      "cell_type": "code",
      "metadata": {
        "id": "qDDV0orkJJd4"
      },
      "source": [
        "train_img_gen = ImageDataGenerator(\n",
        "    rescale=1./255,\n",
        "    rotation_range=40,\n",
        "    width_shift_range=0.2,\n",
        "    height_shift_range=0.2,\n",
        "    shear_range=0.2,\n",
        "    zoom_range=0.2\n",
        ")"
      ],
      "execution_count": null,
      "outputs": []
    },
    {
      "cell_type": "code",
      "metadata": {
        "id": "f6MhZm2HMf9m"
      },
      "source": [
        "validation_img_gen = ImageDataGenerator(\n",
        "    rescale=1./255,\n",
        "    rotation_range=40,\n",
        "    width_shift_range=0.2,\n",
        "    height_shift_range=0.2,\n",
        "    shear_range=0.2,\n",
        "    zoom_range=0.2\n",
        ")"
      ],
      "execution_count": null,
      "outputs": []
    },
    {
      "cell_type": "code",
      "metadata": {
        "id": "7oGO--OoMjdr"
      },
      "source": [
        "test_img_gen = ImageDataGenerator(\n",
        "    rescale=1./255,\n",
        "    rotation_range=40,\n",
        "    width_shift_range=0.2,\n",
        "    height_shift_range=0.2,\n",
        "    shear_range=0.2,\n",
        "    zoom_range=0.2\n",
        ")"
      ],
      "execution_count": null,
      "outputs": []
    },
    {
      "cell_type": "code",
      "metadata": {
        "id": "MvEot8PyMw4R",
        "outputId": "e12d9a38-4957-4108-c952-1da32e47eb30",
        "colab": {
          "base_uri": "https://localhost:8080/",
          "height": 34
        }
      },
      "source": [
        "train_generator = train_img_gen.flow_from_directory(\n",
        "    train_dir,\n",
        "    target_size=(150, 150),\n",
        "    batch_size=20,\n",
        "    class_mode='binary'\n",
        ")"
      ],
      "execution_count": null,
      "outputs": [
        {
          "output_type": "stream",
          "text": [
            "Found 20160 images belonging to 2 classes.\n"
          ],
          "name": "stdout"
        }
      ]
    },
    {
      "cell_type": "code",
      "metadata": {
        "id": "y_qMoQ2MMw4V",
        "outputId": "6b667669-4a34-4cc1-c899-b6f6d3767948",
        "colab": {
          "base_uri": "https://localhost:8080/",
          "height": 34
        }
      },
      "source": [
        "validation_generator = validation_img_gen.flow_from_directory(\n",
        "    validation_dir,\n",
        "    target_size=(150, 150),\n",
        "    batch_size=20,\n",
        "    class_mode='binary'\n",
        ")"
      ],
      "execution_count": null,
      "outputs": [
        {
          "output_type": "stream",
          "text": [
            "Found 4000 images belonging to 2 classes.\n"
          ],
          "name": "stdout"
        }
      ]
    },
    {
      "cell_type": "code",
      "metadata": {
        "id": "qva5Id0MMw4Y",
        "outputId": "a8acf849-8fcb-47b9-83b4-69dc7fd8e152",
        "colab": {
          "base_uri": "https://localhost:8080/",
          "height": 34
        }
      },
      "source": [
        "test_generator = test_img_gen.flow_from_directory(\n",
        "    test_dir,\n",
        "    target_size=(150, 150),\n",
        "    batch_size=20,\n",
        "    class_mode='binary'\n",
        ")"
      ],
      "execution_count": null,
      "outputs": [
        {
          "output_type": "stream",
          "text": [
            "Found 1000 images belonging to 2 classes.\n"
          ],
          "name": "stdout"
        }
      ]
    },
    {
      "cell_type": "code",
      "metadata": {
        "id": "ldbH-S5YN4c9"
      },
      "source": [
        "model = create_model((150, 150, 3))"
      ],
      "execution_count": null,
      "outputs": []
    },
    {
      "cell_type": "code",
      "metadata": {
        "id": "t5s25K-5Mqoc"
      },
      "source": [
        "# history = model.fit(train_generator, \n",
        "#                     steps_per_epoch=100,\n",
        "#                     epochs=30, \n",
        "#                     validation_data=validation_generator,\n",
        "#                     validation_steps=50)"
      ],
      "execution_count": null,
      "outputs": []
    },
    {
      "cell_type": "code",
      "metadata": {
        "id": "aOSX53mVM33O"
      },
      "source": [
        "# model.save('first_model_with_aug.h5')"
      ],
      "execution_count": null,
      "outputs": []
    },
    {
      "cell_type": "code",
      "metadata": {
        "id": "vLfyV9u7nMIf"
      },
      "source": [
        "model.load_weights('first_model_with_aug.h5')"
      ],
      "execution_count": null,
      "outputs": []
    },
    {
      "cell_type": "code",
      "metadata": {
        "id": "IrgJOr9QnMIq",
        "outputId": "8fd7069a-3dd5-4a07-c60c-4ef3c7df0e8f",
        "colab": {
          "base_uri": "https://localhost:8080/",
          "height": 68
        }
      },
      "source": [
        "score, acc = model.evaluate(test_generator)\n",
        "print('Test score:', score)\n",
        "print('Test accuracy:', acc)"
      ],
      "execution_count": null,
      "outputs": [
        {
          "output_type": "stream",
          "text": [
            "50/50 [==============================] - 9s 187ms/step - loss: 0.5558 - acc: 0.7130\n",
            "Test score: 0.5557715892791748\n",
            "Test accuracy: 0.7129999995231628\n"
          ],
          "name": "stdout"
        }
      ]
    },
    {
      "cell_type": "markdown",
      "metadata": {
        "id": "y8nqLR7PriXp"
      },
      "source": [
        "##  Model II"
      ]
    },
    {
      "cell_type": "code",
      "metadata": {
        "id": "rbx5Qy9frkdN",
        "outputId": "13fdb825-8e1e-4c3c-e941-f8568495fef6",
        "colab": {
          "base_uri": "https://localhost:8080/",
          "height": 731
        }
      },
      "source": [
        "def create_model2(input_shape: tuple, verbose: bool = False):\n",
        "    model = models.Sequential()\n",
        "\n",
        "    # layer 0 - conv2d\n",
        "    model.add(layers.Conv2D(32, kernel_size=(3, 3), activation='relu', input_shape=input_shape))\n",
        "    model.add(layers.Conv2D(32, kernel_size=(3, 3), activation='relu'))\n",
        "    model.add(layers.MaxPooling2D(pool_size=(2, 2)))\n",
        "\n",
        "    # layer 1 - conv2d\n",
        "    model.add(layers.Conv2D(64, kernel_size=(3, 3), activation='relu'))\n",
        "    model.add(layers.Conv2D(64, kernel_size=(3, 3), activation='relu'))\n",
        "    model.add(layers.MaxPooling2D(pool_size=(2, 2)))\n",
        "\n",
        "    # layer 2 - conv2d\n",
        "    model.add(layers.Conv2D(128, kernel_size=(3, 3), activation='relu'))\n",
        "    model.add(layers.Conv2D(128, kernel_size=(3, 3), activation='relu'))\n",
        "    model.add(layers.MaxPooling2D(pool_size=(2, 2)))\n",
        "\n",
        "    # layer 3 - conv2d\n",
        "    model.add(layers.Conv2D(128, kernel_size=(3, 3), activation='relu'))\n",
        "    model.add(layers.Conv2D(128, kernel_size=(3, 3), activation='relu'))\n",
        "    model.add(layers.MaxPooling2D(pool_size=(2, 2)))\n",
        "\n",
        "    # layer 4 - flatten\n",
        "    model.add(layers.Flatten())\n",
        "\n",
        "    # layer 5 - dense\n",
        "    model.add(layers.Dense(512, activation='relu'))\n",
        "    model.add(layers.Dense(1024, activation='relu'))\n",
        "\n",
        "    # layer 6 - output\n",
        "    model.add(layers.Dense(1, activation='sigmoid'))\n",
        "\n",
        "    # compile\n",
        "    model.compile(loss='binary_crossentropy', \n",
        "                  optimizer=optimizers.RMSprop(lr=1e-4),\n",
        "                  metrics=['acc'])\n",
        "\n",
        "    if verbose:\n",
        "        print(model.summary())\n",
        "\n",
        "    return model\n",
        "\n",
        "create_model2((150, 150, 3), True)"
      ],
      "execution_count": null,
      "outputs": [
        {
          "output_type": "stream",
          "text": [
            "Model: \"sequential_13\"\n",
            "_________________________________________________________________\n",
            "Layer (type)                 Output Shape              Param #   \n",
            "=================================================================\n",
            "conv2d_88 (Conv2D)           (None, 148, 148, 32)      896       \n",
            "_________________________________________________________________\n",
            "conv2d_89 (Conv2D)           (None, 146, 146, 32)      9248      \n",
            "_________________________________________________________________\n",
            "max_pooling2d_56 (MaxPooling (None, 73, 73, 32)        0         \n",
            "_________________________________________________________________\n",
            "conv2d_90 (Conv2D)           (None, 71, 71, 64)        18496     \n",
            "_________________________________________________________________\n",
            "conv2d_91 (Conv2D)           (None, 69, 69, 64)        36928     \n",
            "_________________________________________________________________\n",
            "max_pooling2d_57 (MaxPooling (None, 34, 34, 64)        0         \n",
            "_________________________________________________________________\n",
            "conv2d_92 (Conv2D)           (None, 32, 32, 128)       73856     \n",
            "_________________________________________________________________\n",
            "conv2d_93 (Conv2D)           (None, 30, 30, 128)       147584    \n",
            "_________________________________________________________________\n",
            "max_pooling2d_58 (MaxPooling (None, 15, 15, 128)       0         \n",
            "_________________________________________________________________\n",
            "conv2d_94 (Conv2D)           (None, 13, 13, 128)       147584    \n",
            "_________________________________________________________________\n",
            "conv2d_95 (Conv2D)           (None, 11, 11, 128)       147584    \n",
            "_________________________________________________________________\n",
            "max_pooling2d_59 (MaxPooling (None, 5, 5, 128)         0         \n",
            "_________________________________________________________________\n",
            "flatten_13 (Flatten)         (None, 3200)              0         \n",
            "_________________________________________________________________\n",
            "dense_33 (Dense)             (None, 512)               1638912   \n",
            "_________________________________________________________________\n",
            "dense_34 (Dense)             (None, 1024)              525312    \n",
            "_________________________________________________________________\n",
            "dense_35 (Dense)             (None, 1)                 1025      \n",
            "=================================================================\n",
            "Total params: 2,747,425\n",
            "Trainable params: 2,747,425\n",
            "Non-trainable params: 0\n",
            "_________________________________________________________________\n",
            "None\n"
          ],
          "name": "stdout"
        },
        {
          "output_type": "execute_result",
          "data": {
            "text/plain": [
              "<tensorflow.python.keras.engine.sequential.Sequential at 0x7f331c5decc0>"
            ]
          },
          "metadata": {
            "tags": []
          },
          "execution_count": 93
        }
      ]
    },
    {
      "cell_type": "code",
      "metadata": {
        "id": "ZdZTeLDPsXVD"
      },
      "source": [
        "model = create_model2((150, 150, 3))"
      ],
      "execution_count": null,
      "outputs": []
    },
    {
      "cell_type": "code",
      "metadata": {
        "id": "AeOO-yLOsXVK"
      },
      "source": [
        "train_img_gen = ImageDataGenerator(rescale=1./255)\n",
        "validation_img_gen = ImageDataGenerator(rescale=1./255)\n",
        "test_img_gen = ImageDataGenerator(rescale=1./255)"
      ],
      "execution_count": null,
      "outputs": []
    },
    {
      "cell_type": "code",
      "metadata": {
        "id": "EOHdQFdTsXVP",
        "outputId": "a9b7ecef-b832-40c4-9f30-ababfb0fa33a",
        "colab": {
          "base_uri": "https://localhost:8080/",
          "height": 34
        }
      },
      "source": [
        "train_generator = train_img_gen.flow_from_directory(\n",
        "    train_dir,\n",
        "    target_size=(150, 150),\n",
        "    batch_size=20,\n",
        "    class_mode='binary'\n",
        ")"
      ],
      "execution_count": null,
      "outputs": [
        {
          "output_type": "stream",
          "text": [
            "Found 20160 images belonging to 2 classes.\n"
          ],
          "name": "stdout"
        }
      ]
    },
    {
      "cell_type": "code",
      "metadata": {
        "id": "UmdtyWI5sXVT",
        "outputId": "0dd23f3b-264c-47e3-ec5f-72e9df5c0211",
        "colab": {
          "base_uri": "https://localhost:8080/",
          "height": 34
        }
      },
      "source": [
        "validation_generator = validation_img_gen.flow_from_directory(\n",
        "    validation_dir,\n",
        "    target_size=(150, 150),\n",
        "    batch_size=20,\n",
        "    class_mode='binary'\n",
        ")"
      ],
      "execution_count": null,
      "outputs": [
        {
          "output_type": "stream",
          "text": [
            "Found 4000 images belonging to 2 classes.\n"
          ],
          "name": "stdout"
        }
      ]
    },
    {
      "cell_type": "code",
      "metadata": {
        "id": "6kF_63uvsXVW",
        "outputId": "8a2299c2-6f30-4626-c56c-81ea7b0fe471",
        "colab": {
          "base_uri": "https://localhost:8080/",
          "height": 34
        }
      },
      "source": [
        "test_generator = test_img_gen.flow_from_directory(\n",
        "    test_dir,\n",
        "    target_size=(150, 150),\n",
        "    batch_size=20,\n",
        "    class_mode='binary'\n",
        ")"
      ],
      "execution_count": null,
      "outputs": [
        {
          "output_type": "stream",
          "text": [
            "Found 1000 images belonging to 2 classes.\n"
          ],
          "name": "stdout"
        }
      ]
    },
    {
      "cell_type": "code",
      "metadata": {
        "id": "hC6DoT7HsbSd"
      },
      "source": [
        "# history = model.fit(train_generator, \n",
        "#                     steps_per_epoch=100,\n",
        "#                     epochs=30, \n",
        "#                     validation_data=validation_generator,\n",
        "#                     validation_steps=50)"
      ],
      "execution_count": null,
      "outputs": []
    },
    {
      "cell_type": "code",
      "metadata": {
        "id": "3rdzdY6WsrKI"
      },
      "source": [
        "# model.save('second_model.h5')"
      ],
      "execution_count": null,
      "outputs": []
    },
    {
      "cell_type": "code",
      "metadata": {
        "id": "xY5zkHXuTvaQ"
      },
      "source": [
        "model.load_weights('second_model.h5')"
      ],
      "execution_count": null,
      "outputs": []
    },
    {
      "cell_type": "code",
      "metadata": {
        "id": "YHHxKHekTvac",
        "outputId": "8300c6d6-748f-4e4e-f334-07e9b5d6c148",
        "colab": {
          "base_uri": "https://localhost:8080/",
          "height": 68
        }
      },
      "source": [
        "score, acc = model.evaluate(test_generator)\n",
        "print('Test score:', score)\n",
        "print('Test accuracy:', acc)"
      ],
      "execution_count": null,
      "outputs": [
        {
          "output_type": "stream",
          "text": [
            "50/50 [==============================] - 5s 98ms/step - loss: 0.4886 - acc: 0.7630\n",
            "Test score: 0.4886474609375\n",
            "Test accuracy: 0.7630000114440918\n"
          ],
          "name": "stdout"
        }
      ]
    },
    {
      "cell_type": "markdown",
      "metadata": {
        "id": "o67ShhBoad40"
      },
      "source": [
        "## Model III\n"
      ]
    },
    {
      "cell_type": "code",
      "metadata": {
        "id": "4fuAMqNNaiK_",
        "outputId": "e0bc2467-a22f-4b7d-ee4d-af1fe596289f",
        "colab": {
          "base_uri": "https://localhost:8080/",
          "height": 731
        }
      },
      "source": [
        "def create_model3(input_shape: tuple, verbose: bool = False):\n",
        "    model = models.Sequential()\n",
        "\n",
        "    # layer 0 - conv2d\n",
        "    model.add(layers.Conv2D(64, kernel_size=(3, 3), activation='relu', input_shape=input_shape))\n",
        "    model.add(layers.Conv2D(64, kernel_size=(3, 3), activation='relu'))\n",
        "    model.add(layers.MaxPooling2D(pool_size=(2, 2)))\n",
        "\n",
        "    # layer 1 - conv2d\n",
        "    model.add(layers.Conv2D(64, kernel_size=(3, 3), activation='relu'))\n",
        "    model.add(layers.Conv2D(64, kernel_size=(3, 3), activation='relu'))\n",
        "    model.add(layers.MaxPooling2D(pool_size=(2, 2)))\n",
        "\n",
        "    # layer 2 - conv2d\n",
        "    model.add(layers.Conv2D(128, kernel_size=(3, 3), activation='relu'))\n",
        "    model.add(layers.Conv2D(128, kernel_size=(3, 3), activation='relu'))\n",
        "    model.add(layers.MaxPooling2D(pool_size=(2, 2)))\n",
        "\n",
        "    # layer 3 - conv2d\n",
        "    model.add(layers.Conv2D(256, kernel_size=(3, 3), activation='relu'))\n",
        "    model.add(layers.Conv2D(256, kernel_size=(3, 3), activation='relu'))\n",
        "    model.add(layers.MaxPooling2D(pool_size=(2, 2)))\n",
        "\n",
        "    # layer 4 - flatten\n",
        "    model.add(layers.Flatten())\n",
        "\n",
        "    # layer 5 - dense\n",
        "    model.add(layers.Dense(512, activation='relu'))\n",
        "    model.add(layers.Dense(1024, activation='relu'))\n",
        "\n",
        "    # layer 6 - output\n",
        "    model.add(layers.Dense(1, activation='sigmoid'))\n",
        "\n",
        "    # compile\n",
        "    model.compile(loss='binary_crossentropy', \n",
        "                  optimizer=optimizers.RMSprop(lr=1e-4),\n",
        "                  metrics=['acc'])\n",
        "\n",
        "    if verbose:\n",
        "        print(model.summary())\n",
        "\n",
        "    return model\n",
        "\n",
        "create_model3((150, 150, 3), True)"
      ],
      "execution_count": null,
      "outputs": [
        {
          "output_type": "stream",
          "text": [
            "Model: \"sequential_15\"\n",
            "_________________________________________________________________\n",
            "Layer (type)                 Output Shape              Param #   \n",
            "=================================================================\n",
            "conv2d_104 (Conv2D)          (None, 148, 148, 64)      1792      \n",
            "_________________________________________________________________\n",
            "conv2d_105 (Conv2D)          (None, 146, 146, 64)      36928     \n",
            "_________________________________________________________________\n",
            "max_pooling2d_64 (MaxPooling (None, 73, 73, 64)        0         \n",
            "_________________________________________________________________\n",
            "conv2d_106 (Conv2D)          (None, 71, 71, 64)        36928     \n",
            "_________________________________________________________________\n",
            "conv2d_107 (Conv2D)          (None, 69, 69, 64)        36928     \n",
            "_________________________________________________________________\n",
            "max_pooling2d_65 (MaxPooling (None, 34, 34, 64)        0         \n",
            "_________________________________________________________________\n",
            "conv2d_108 (Conv2D)          (None, 32, 32, 128)       73856     \n",
            "_________________________________________________________________\n",
            "conv2d_109 (Conv2D)          (None, 30, 30, 128)       147584    \n",
            "_________________________________________________________________\n",
            "max_pooling2d_66 (MaxPooling (None, 15, 15, 128)       0         \n",
            "_________________________________________________________________\n",
            "conv2d_110 (Conv2D)          (None, 13, 13, 256)       295168    \n",
            "_________________________________________________________________\n",
            "conv2d_111 (Conv2D)          (None, 11, 11, 256)       590080    \n",
            "_________________________________________________________________\n",
            "max_pooling2d_67 (MaxPooling (None, 5, 5, 256)         0         \n",
            "_________________________________________________________________\n",
            "flatten_15 (Flatten)         (None, 6400)              0         \n",
            "_________________________________________________________________\n",
            "dense_39 (Dense)             (None, 512)               3277312   \n",
            "_________________________________________________________________\n",
            "dense_40 (Dense)             (None, 1024)              525312    \n",
            "_________________________________________________________________\n",
            "dense_41 (Dense)             (None, 1)                 1025      \n",
            "=================================================================\n",
            "Total params: 5,022,913\n",
            "Trainable params: 5,022,913\n",
            "Non-trainable params: 0\n",
            "_________________________________________________________________\n",
            "None\n"
          ],
          "name": "stdout"
        },
        {
          "output_type": "execute_result",
          "data": {
            "text/plain": [
              "<tensorflow.python.keras.engine.sequential.Sequential at 0x7f331a33a4e0>"
            ]
          },
          "metadata": {
            "tags": []
          },
          "execution_count": 103
        }
      ]
    },
    {
      "cell_type": "code",
      "metadata": {
        "id": "Eb3c9knaa9Wu"
      },
      "source": [
        "train_img_gen = ImageDataGenerator(rescale=1./255)\n",
        "validation_img_gen = ImageDataGenerator(rescale=1./255)\n",
        "test_img_gen = ImageDataGenerator(rescale=1./255)"
      ],
      "execution_count": null,
      "outputs": []
    },
    {
      "cell_type": "code",
      "metadata": {
        "id": "QSd6Amoea9W1",
        "outputId": "b4b1ba02-2682-4d74-f45f-a844c45f6852",
        "colab": {
          "base_uri": "https://localhost:8080/",
          "height": 34
        }
      },
      "source": [
        "train_generator = train_img_gen.flow_from_directory(\n",
        "    train_dir,\n",
        "    target_size=(150, 150),\n",
        "    batch_size=20,\n",
        "    class_mode='binary'\n",
        ")"
      ],
      "execution_count": null,
      "outputs": [
        {
          "output_type": "stream",
          "text": [
            "Found 20160 images belonging to 2 classes.\n"
          ],
          "name": "stdout"
        }
      ]
    },
    {
      "cell_type": "code",
      "metadata": {
        "id": "L6NR2fQza9W5",
        "outputId": "1a081951-032f-45c4-beed-bcbca7cef607",
        "colab": {
          "base_uri": "https://localhost:8080/",
          "height": 34
        }
      },
      "source": [
        "validation_generator = validation_img_gen.flow_from_directory(\n",
        "    validation_dir,\n",
        "    target_size=(150, 150),\n",
        "    batch_size=20,\n",
        "    class_mode='binary'\n",
        ")"
      ],
      "execution_count": null,
      "outputs": [
        {
          "output_type": "stream",
          "text": [
            "Found 4000 images belonging to 2 classes.\n"
          ],
          "name": "stdout"
        }
      ]
    },
    {
      "cell_type": "code",
      "metadata": {
        "id": "GGkC927Da9W8",
        "outputId": "c5d1dcff-5d5f-49a1-d6c6-6d2bc83f2d5e",
        "colab": {
          "base_uri": "https://localhost:8080/",
          "height": 34
        }
      },
      "source": [
        "test_generator = test_img_gen.flow_from_directory(\n",
        "    test_dir,\n",
        "    target_size=(150, 150),\n",
        "    batch_size=20,\n",
        "    class_mode='binary'\n",
        ")"
      ],
      "execution_count": null,
      "outputs": [
        {
          "output_type": "stream",
          "text": [
            "Found 1000 images belonging to 2 classes.\n"
          ],
          "name": "stdout"
        }
      ]
    },
    {
      "cell_type": "code",
      "metadata": {
        "id": "KiYnNunRa_um"
      },
      "source": [
        "# model = create_model3((150, 150, 3), False)\n",
        "\n",
        "# history = model.fit(train_generator, \n",
        "#                     steps_per_epoch=100,\n",
        "#                     epochs=30, \n",
        "#                     validation_data=validation_generator,\n",
        "#                     validation_steps=50)"
      ],
      "execution_count": null,
      "outputs": []
    },
    {
      "cell_type": "code",
      "metadata": {
        "id": "Xa2qQTuCbPKI"
      },
      "source": [
        "model.save('third_model.h5')"
      ],
      "execution_count": null,
      "outputs": []
    },
    {
      "cell_type": "code",
      "metadata": {
        "id": "61P6sKuZbT-y",
        "outputId": "f10e4c30-7e6f-436d-9c1b-5436f911740b",
        "colab": {
          "base_uri": "https://localhost:8080/",
          "height": 68
        }
      },
      "source": [
        "score, acc = model.evaluate(test_generator)\n",
        "print('Test score:', score)\n",
        "print('Test accuracy:', acc)"
      ],
      "execution_count": null,
      "outputs": [
        {
          "output_type": "stream",
          "text": [
            "50/50 [==============================] - 5s 104ms/step - loss: 0.4886 - acc: 0.7630\n",
            "Test score: 0.4886474907398224\n",
            "Test accuracy: 0.7630000114440918\n"
          ],
          "name": "stdout"
        }
      ]
    },
    {
      "cell_type": "markdown",
      "metadata": {
        "id": "G11wlH_ehUtM"
      },
      "source": [
        "### Full dataset"
      ]
    },
    {
      "cell_type": "code",
      "metadata": {
        "id": "xjQgpXUphYTu"
      },
      "source": [
        "# model = create_model3((150, 150, 3), False)\n",
        "\n",
        "# history = model.fit(train_generator, \n",
        "#                     steps_per_epoch=1000,\n",
        "#                     epochs=30, \n",
        "#                     validation_data=validation_generator,\n",
        "#                     validation_steps=50)"
      ],
      "execution_count": null,
      "outputs": []
    },
    {
      "cell_type": "code",
      "metadata": {
        "id": "IavC0w_4h6Hj"
      },
      "source": [
        "# model.save('third_model_full_db.h5')"
      ],
      "execution_count": null,
      "outputs": []
    },
    {
      "cell_type": "code",
      "metadata": {
        "id": "uvrLwcLAh6Ho"
      },
      "source": [
        "# model.load_weights('third_model_full_db.h5')"
      ],
      "execution_count": null,
      "outputs": []
    },
    {
      "cell_type": "code",
      "metadata": {
        "id": "U4IFmPi5h6Ht",
        "outputId": "9d679418-2d17-4e56-e173-7323264526a7",
        "colab": {
          "base_uri": "https://localhost:8080/",
          "height": 68
        }
      },
      "source": [
        "score, acc = model.evaluate(test_generator)\n",
        "print('Test score:', score)\n",
        "print('Test accuracy:', acc)"
      ],
      "execution_count": null,
      "outputs": [
        {
          "output_type": "stream",
          "text": [
            "50/50 [==============================] - 5s 95ms/step - loss: 0.4886 - acc: 0.7630\n",
            "Test score: 0.4886475205421448\n",
            "Test accuracy: 0.7630000114440918\n"
          ],
          "name": "stdout"
        }
      ]
    },
    {
      "cell_type": "markdown",
      "metadata": {
        "id": "7ZcCI2mC3eWv"
      },
      "source": [
        "## Model IV"
      ]
    },
    {
      "cell_type": "code",
      "metadata": {
        "id": "7iO6_A5RiDhW",
        "outputId": "50f8732c-fe35-497f-bec7-5bd5e84b8c76",
        "colab": {
          "base_uri": "https://localhost:8080/",
          "height": 833
        }
      },
      "source": [
        "def create_model4(input_shape: tuple, verbose: bool = False):\n",
        "    model = models.Sequential()\n",
        "\n",
        "    # layer 0 - conv2d\n",
        "    model.add(layers.Conv2D(64, kernel_size=(3, 3), activation='relu', input_shape=input_shape, padding='same'))\n",
        "    model.add(layers.Conv2D(64, kernel_size=(3, 3), activation='relu'))\n",
        "    model.add(layers.MaxPooling2D(pool_size=(2, 2)))\n",
        "\n",
        "    # layer 1 - conv2d\n",
        "    model.add(layers.Conv2D(64, kernel_size=(3, 3), activation='relu', padding='same'))\n",
        "    model.add(layers.Conv2D(64, kernel_size=(3, 3), activation='relu'))\n",
        "    model.add(layers.MaxPooling2D(pool_size=(2, 2)))\n",
        "\n",
        "    # layer 2 - conv2d\n",
        "    model.add(layers.Conv2D(128, kernel_size=(3, 3), activation='relu', padding='same'))\n",
        "    model.add(layers.Conv2D(128, kernel_size=(3, 3), activation='relu'))\n",
        "    model.add(layers.MaxPooling2D(pool_size=(2, 2)))\n",
        "\n",
        "    # layer 3 - conv2d\n",
        "    model.add(layers.Conv2D(128, kernel_size=(3, 3), activation='relu', padding='same'))\n",
        "    model.add(layers.Conv2D(128, kernel_size=(3, 3), activation='relu'))\n",
        "    model.add(layers.MaxPooling2D(pool_size=(2, 2)))\n",
        "\n",
        "    # layer 4 - conv2d\n",
        "    model.add(layers.Conv2D(256, kernel_size=(3, 3), activation='relu', padding='same'))\n",
        "    model.add(layers.Conv2D(256, kernel_size=(3, 3), activation='relu'))\n",
        "    model.add(layers.MaxPooling2D(pool_size=(2, 2)))\n",
        "\n",
        "    # layer 5 - flatten\n",
        "    model.add(layers.Flatten())\n",
        "\n",
        "    # layer 6 - dense\n",
        "    model.add(layers.Dense(512, activation='relu'))\n",
        "    model.add(layers.Dense(1024, activation='relu'))\n",
        "\n",
        "    # layer 7 - output\n",
        "    model.add(layers.Dense(1, activation='sigmoid'))\n",
        "\n",
        "    # compile\n",
        "    model.compile(loss='binary_crossentropy', \n",
        "                  optimizer=optimizers.RMSprop(lr=1e-4),\n",
        "                  metrics=['acc'])\n",
        "\n",
        "    if verbose:\n",
        "        print(model.summary())\n",
        "\n",
        "    return model\n",
        "\n",
        "create_model4((150, 150, 3), True)"
      ],
      "execution_count": null,
      "outputs": [
        {
          "output_type": "stream",
          "text": [
            "Model: \"sequential_16\"\n",
            "_________________________________________________________________\n",
            "Layer (type)                 Output Shape              Param #   \n",
            "=================================================================\n",
            "conv2d_112 (Conv2D)          (None, 150, 150, 64)      1792      \n",
            "_________________________________________________________________\n",
            "conv2d_113 (Conv2D)          (None, 148, 148, 64)      36928     \n",
            "_________________________________________________________________\n",
            "max_pooling2d_68 (MaxPooling (None, 74, 74, 64)        0         \n",
            "_________________________________________________________________\n",
            "conv2d_114 (Conv2D)          (None, 74, 74, 64)        36928     \n",
            "_________________________________________________________________\n",
            "conv2d_115 (Conv2D)          (None, 72, 72, 64)        36928     \n",
            "_________________________________________________________________\n",
            "max_pooling2d_69 (MaxPooling (None, 36, 36, 64)        0         \n",
            "_________________________________________________________________\n",
            "conv2d_116 (Conv2D)          (None, 36, 36, 128)       73856     \n",
            "_________________________________________________________________\n",
            "conv2d_117 (Conv2D)          (None, 34, 34, 128)       147584    \n",
            "_________________________________________________________________\n",
            "max_pooling2d_70 (MaxPooling (None, 17, 17, 128)       0         \n",
            "_________________________________________________________________\n",
            "conv2d_118 (Conv2D)          (None, 17, 17, 128)       147584    \n",
            "_________________________________________________________________\n",
            "conv2d_119 (Conv2D)          (None, 15, 15, 128)       147584    \n",
            "_________________________________________________________________\n",
            "max_pooling2d_71 (MaxPooling (None, 7, 7, 128)         0         \n",
            "_________________________________________________________________\n",
            "conv2d_120 (Conv2D)          (None, 7, 7, 256)         295168    \n",
            "_________________________________________________________________\n",
            "conv2d_121 (Conv2D)          (None, 5, 5, 256)         590080    \n",
            "_________________________________________________________________\n",
            "max_pooling2d_72 (MaxPooling (None, 2, 2, 256)         0         \n",
            "_________________________________________________________________\n",
            "flatten_16 (Flatten)         (None, 1024)              0         \n",
            "_________________________________________________________________\n",
            "dense_42 (Dense)             (None, 512)               524800    \n",
            "_________________________________________________________________\n",
            "dense_43 (Dense)             (None, 1024)              525312    \n",
            "_________________________________________________________________\n",
            "dense_44 (Dense)             (None, 1)                 1025      \n",
            "=================================================================\n",
            "Total params: 2,565,569\n",
            "Trainable params: 2,565,569\n",
            "Non-trainable params: 0\n",
            "_________________________________________________________________\n",
            "None\n"
          ],
          "name": "stdout"
        },
        {
          "output_type": "execute_result",
          "data": {
            "text/plain": [
              "<tensorflow.python.keras.engine.sequential.Sequential at 0x7f3318aefa58>"
            ]
          },
          "metadata": {
            "tags": []
          },
          "execution_count": 115
        }
      ]
    },
    {
      "cell_type": "code",
      "metadata": {
        "id": "f5hDHU4s4slA"
      },
      "source": [
        "train_img_gen = ImageDataGenerator(rescale=1./255)\n",
        "validation_img_gen = ImageDataGenerator(rescale=1./255)\n",
        "test_img_gen = ImageDataGenerator(rescale=1./255)"
      ],
      "execution_count": null,
      "outputs": []
    },
    {
      "cell_type": "code",
      "metadata": {
        "id": "cwN9Xxyx4slb",
        "outputId": "62b8c24e-41d2-4431-c755-bc9523a7d400",
        "colab": {
          "base_uri": "https://localhost:8080/",
          "height": 34
        }
      },
      "source": [
        "train_generator = train_img_gen.flow_from_directory(\n",
        "    train_dir,\n",
        "    target_size=(150, 150),\n",
        "    batch_size=20,\n",
        "    class_mode='binary'\n",
        ")"
      ],
      "execution_count": null,
      "outputs": [
        {
          "output_type": "stream",
          "text": [
            "Found 20160 images belonging to 2 classes.\n"
          ],
          "name": "stdout"
        }
      ]
    },
    {
      "cell_type": "code",
      "metadata": {
        "id": "K721sd4m4slu",
        "outputId": "691da5ff-049a-49dc-f50b-0d291082674e",
        "colab": {
          "base_uri": "https://localhost:8080/",
          "height": 34
        }
      },
      "source": [
        "validation_generator = validation_img_gen.flow_from_directory(\n",
        "    validation_dir,\n",
        "    target_size=(150, 150),\n",
        "    batch_size=20,\n",
        "    class_mode='binary'\n",
        ")"
      ],
      "execution_count": null,
      "outputs": [
        {
          "output_type": "stream",
          "text": [
            "Found 4000 images belonging to 2 classes.\n"
          ],
          "name": "stdout"
        }
      ]
    },
    {
      "cell_type": "code",
      "metadata": {
        "id": "OC_5N8xt4sl9",
        "outputId": "e4e33feb-96ac-41f5-fbb1-4cadc4124e95",
        "colab": {
          "base_uri": "https://localhost:8080/",
          "height": 34
        }
      },
      "source": [
        "test_generator = test_img_gen.flow_from_directory(\n",
        "    test_dir,\n",
        "    target_size=(150, 150),\n",
        "    batch_size=20,\n",
        "    class_mode='binary'\n",
        ")"
      ],
      "execution_count": null,
      "outputs": [
        {
          "output_type": "stream",
          "text": [
            "Found 1000 images belonging to 2 classes.\n"
          ],
          "name": "stdout"
        }
      ]
    },
    {
      "cell_type": "code",
      "metadata": {
        "id": "oYsWAo8i4smN"
      },
      "source": [
        "model = create_model4((150, 150, 3), False)\n",
        "\n",
        "# history = model.fit(train_generator, \n",
        "#                     steps_per_epoch=100,\n",
        "#                     epochs=30, \n",
        "#                     validation_data=validation_generator,\n",
        "#                     validation_steps=50)"
      ],
      "execution_count": null,
      "outputs": []
    },
    {
      "cell_type": "code",
      "metadata": {
        "id": "SIkTONcT4smY"
      },
      "source": [
        "# model.save('4th_model.h5')"
      ],
      "execution_count": null,
      "outputs": []
    },
    {
      "cell_type": "code",
      "metadata": {
        "id": "j1jF3y5FMx2R"
      },
      "source": [
        "model.load_weights('4th_model.h5')"
      ],
      "execution_count": null,
      "outputs": []
    },
    {
      "cell_type": "code",
      "metadata": {
        "id": "zn7hKfMg4zbr",
        "outputId": "5d6f5232-60e9-4b3f-bb87-e511e14bdfe4",
        "colab": {
          "base_uri": "https://localhost:8080/",
          "height": 68
        }
      },
      "source": [
        "score, acc = model.evaluate(test_generator)\n",
        "print('Test score:', score)\n",
        "print('Test accuracy:', acc)"
      ],
      "execution_count": null,
      "outputs": [
        {
          "output_type": "stream",
          "text": [
            "50/50 [==============================] - 5s 101ms/step - loss: 0.3981 - acc: 0.8220\n",
            "Test score: 0.39805206656455994\n",
            "Test accuracy: 0.8220000267028809\n"
          ],
          "name": "stdout"
        }
      ]
    },
    {
      "cell_type": "markdown",
      "metadata": {
        "id": "F0EuKhcK72rt"
      },
      "source": [
        "### Full database"
      ]
    },
    {
      "cell_type": "code",
      "metadata": {
        "id": "GhOn5sYU7xZX"
      },
      "source": [
        "model = create_model4((150, 150, 3), False)\n",
        "\n",
        "# history = model.fit(train_generator, \n",
        "#                     steps_per_epoch=1008,\n",
        "#                     epochs=30, \n",
        "#                     validation_data=validation_generator,\n",
        "#                     validation_steps=50)"
      ],
      "execution_count": null,
      "outputs": []
    },
    {
      "cell_type": "code",
      "metadata": {
        "id": "fcmYssxw8M9u"
      },
      "source": [
        "# model.save('4th_model_full_db.h5')"
      ],
      "execution_count": null,
      "outputs": []
    },
    {
      "cell_type": "code",
      "metadata": {
        "id": "ULhUCWESM5-T"
      },
      "source": [
        "model.load_weights('4th_model_full_db.h5')"
      ],
      "execution_count": null,
      "outputs": []
    },
    {
      "cell_type": "code",
      "metadata": {
        "id": "uNwGqMUV8Q-s",
        "outputId": "b3264627-5a4b-4ebf-e8d7-14296b300d3f",
        "colab": {
          "base_uri": "https://localhost:8080/",
          "height": 68
        }
      },
      "source": [
        "score, acc = model.evaluate(test_generator)\n",
        "print('Test score:', score)\n",
        "print('Test accuracy:', acc)"
      ],
      "execution_count": null,
      "outputs": [
        {
          "output_type": "stream",
          "text": [
            "50/50 [==============================] - 5s 101ms/step - loss: 0.4827 - acc: 0.9310\n",
            "Test score: 0.48267635703086853\n",
            "Test accuracy: 0.9309999942779541\n"
          ],
          "name": "stdout"
        }
      ]
    },
    {
      "cell_type": "markdown",
      "metadata": {
        "id": "lpxVWNKRNiaY"
      },
      "source": [
        "### Data augmentation"
      ]
    },
    {
      "cell_type": "code",
      "metadata": {
        "id": "WAUh2XupNkRD"
      },
      "source": [
        "train_img_gen = ImageDataGenerator(\n",
        "    rescale=1./255,\n",
        "    rotation_range=40,\n",
        "    width_shift_range=0.2,\n",
        "    height_shift_range=0.2,\n",
        "    shear_range=0.2,\n",
        "    zoom_range=0.2\n",
        ")"
      ],
      "execution_count": null,
      "outputs": []
    },
    {
      "cell_type": "code",
      "metadata": {
        "id": "9G4qc6juNkRK"
      },
      "source": [
        "validation_img_gen = ImageDataGenerator(\n",
        "    rescale=1./255,\n",
        "    rotation_range=40,\n",
        "    width_shift_range=0.2,\n",
        "    height_shift_range=0.2,\n",
        "    shear_range=0.2,\n",
        "    zoom_range=0.2\n",
        ")"
      ],
      "execution_count": null,
      "outputs": []
    },
    {
      "cell_type": "code",
      "metadata": {
        "id": "8VZmhb3xNkRM"
      },
      "source": [
        "test_img_gen = ImageDataGenerator(\n",
        "    rescale=1./255,\n",
        "    rotation_range=40,\n",
        "    width_shift_range=0.2,\n",
        "    height_shift_range=0.2,\n",
        "    shear_range=0.2,\n",
        "    zoom_range=0.2\n",
        ")"
      ],
      "execution_count": null,
      "outputs": []
    },
    {
      "cell_type": "code",
      "metadata": {
        "id": "Ri8waSW1NkRP",
        "outputId": "f3ebd9a3-60c5-4d32-e3d3-3a09198f8563",
        "colab": {
          "base_uri": "https://localhost:8080/",
          "height": 34
        }
      },
      "source": [
        "train_generator = train_img_gen.flow_from_directory(\n",
        "    train_dir,\n",
        "    target_size=(150, 150),\n",
        "    batch_size=20,\n",
        "    class_mode='binary'\n",
        ")"
      ],
      "execution_count": null,
      "outputs": [
        {
          "output_type": "stream",
          "text": [
            "Found 20160 images belonging to 2 classes.\n"
          ],
          "name": "stdout"
        }
      ]
    },
    {
      "cell_type": "code",
      "metadata": {
        "id": "ts6FiUWgNkRS",
        "outputId": "9257ef04-0bd8-4c05-b2f5-3a96394b4b86",
        "colab": {
          "base_uri": "https://localhost:8080/",
          "height": 34
        }
      },
      "source": [
        "validation_generator = validation_img_gen.flow_from_directory(\n",
        "    validation_dir,\n",
        "    target_size=(150, 150),\n",
        "    batch_size=20,\n",
        "    class_mode='binary'\n",
        ")"
      ],
      "execution_count": null,
      "outputs": [
        {
          "output_type": "stream",
          "text": [
            "Found 4000 images belonging to 2 classes.\n"
          ],
          "name": "stdout"
        }
      ]
    },
    {
      "cell_type": "code",
      "metadata": {
        "id": "GCh0itYQNkRU",
        "outputId": "2be93d05-d3ad-478b-8c3d-b8ac4fbac9e8",
        "colab": {
          "base_uri": "https://localhost:8080/",
          "height": 34
        }
      },
      "source": [
        "test_generator = test_img_gen.flow_from_directory(\n",
        "    test_dir,\n",
        "    target_size=(150, 150),\n",
        "    batch_size=20,\n",
        "    class_mode='binary'\n",
        ")"
      ],
      "execution_count": null,
      "outputs": [
        {
          "output_type": "stream",
          "text": [
            "Found 1000 images belonging to 2 classes.\n"
          ],
          "name": "stdout"
        }
      ]
    },
    {
      "cell_type": "code",
      "metadata": {
        "id": "hhXaL-xNNkRW"
      },
      "source": [
        "model = create_model4((150, 150, 3), False)\n",
        "\n",
        "# history = model.fit(train_generator, \n",
        "#                     steps_per_epoch=2008,\n",
        "#                     epochs=30, \n",
        "#                     validation_data=validation_generator,\n",
        "#                     validation_steps=50)"
      ],
      "execution_count": null,
      "outputs": []
    },
    {
      "cell_type": "code",
      "metadata": {
        "id": "Bc-RehDtNroJ"
      },
      "source": [
        "# model.save('4th_model_full_db_with_aug.h5')"
      ],
      "execution_count": null,
      "outputs": []
    },
    {
      "cell_type": "code",
      "metadata": {
        "id": "cXAV_Jd1wrDq"
      },
      "source": [
        "model.load_weights('4th_model_full_db_with_aug.h5')"
      ],
      "execution_count": null,
      "outputs": []
    },
    {
      "cell_type": "code",
      "metadata": {
        "id": "YjRgauz3Nwqi",
        "outputId": "00514cc1-b547-48d1-d4ae-554b2ca38bcb",
        "colab": {
          "base_uri": "https://localhost:8080/",
          "height": 68
        }
      },
      "source": [
        "score, acc = model.evaluate(test_generator)\n",
        "print('Test score:', score)\n",
        "print('Test accuracy:', acc)"
      ],
      "execution_count": null,
      "outputs": [
        {
          "output_type": "stream",
          "text": [
            "50/50 [==============================] - 10s 201ms/step - loss: 0.3728 - acc: 0.8230\n",
            "Test score: 0.3727688789367676\n",
            "Test accuracy: 0.8230000138282776\n"
          ],
          "name": "stdout"
        }
      ]
    },
    {
      "cell_type": "code",
      "metadata": {
        "id": "K490QShzN0KZ"
      },
      "source": [
        ""
      ],
      "execution_count": null,
      "outputs": []
    }
  ]
}